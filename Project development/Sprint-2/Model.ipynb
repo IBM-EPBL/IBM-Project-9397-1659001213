{
  "nbformat": 4,
  "nbformat_minor": 0,
  "metadata": {
    "colab": {
      "provenance": []
    },
    "kernelspec": {
      "name": "python3",
      "display_name": "Python 3"
    },
    "language_info": {
      "name": "python"
    }
  },
  "cells": [
    {
      "cell_type": "code",
      "execution_count": null,
      "metadata": {
        "id": "-Fv7NSpcff0K"
      },
      "outputs": [],
      "source": []
    },
    {
      "cell_type": "code",
      "source": [
        "from sklearn.model_selection import train_test_split \n",
        "X_train, X_test, y_train, y_test = train_test_split(X, y, test_size=0.15)"
      ],
      "metadata": {
        "id": "cJfOq6gNW9x9"
      },
      "execution_count": null,
      "outputs": []
    },
    {
      "cell_type": "code",
      "source": [
        "from sklearn.ensemble import GradientBoostingRegressor\n",
        "rgr = GradientBoostingRegressor()\n",
        "rgr.fit(X_train,y_train)"
      ],
      "metadata": {
        "colab": {
          "base_uri": "https://localhost:8080/"
        },
        "id": "eHKS6K_oXC6g",
        "outputId": "b37a23c6-7f85-4fc2-d080-e631bd660784"
      },
      "execution_count": null,
      "outputs": [
        {
          "output_type": "execute_result",
          "data": {
            "text/plain": [
              "GradientBoostingRegressor()"
            ]
          },
          "metadata": {},
          "execution_count": 11
        }
      ]
    },
    {
      "cell_type": "code",
      "source": [
        "rgr.score(X_test,y_test)"
      ],
      "metadata": {
        "colab": {
          "base_uri": "https://localhost:8080/"
        },
        "id": "nbhqDyj9XITY",
        "outputId": "b55994d2-6224-4724-cc0e-14ea88cc308b"
      },
      "execution_count": null,
      "outputs": [
        {
          "output_type": "execute_result",
          "data": {
            "text/plain": [
              "0.8520895605271963"
            ]
          },
          "metadata": {},
          "execution_count": 12
        }
      ]
    },
    {
      "cell_type": "code",
      "source": [
        "y_predict=rgr.predict(X_test)"
      ],
      "metadata": {
        "id": "qQQoV-M9XNRd"
      },
      "execution_count": null,
      "outputs": []
    },
    {
      "cell_type": "code",
      "source": [
        "y_train = (y_train>0.5)\n",
        "y_test = (y_test>0.5)"
      ],
      "metadata": {
        "id": "XgA9pTGHXU0c"
      },
      "execution_count": null,
      "outputs": []
    },
    {
      "cell_type": "code",
      "source": [
        "from sklearn.metrics import mean_squared_error, r2_score,mean_absolute_error\n",
        "import numpy as np\n",
        "print('Mean Absolute Error:', mean_absolute_error(y_test, y_predict))  \n",
        "print('Mean Squared Error:', mean_squared_error(y_test, y_predict))  \n",
        "print('Root Mean Squared Error:', np.sqrt(mean_squared_error(y_test, y_predict)))"
      ],
      "metadata": {
        "colab": {
          "base_uri": "https://localhost:8080/"
        },
        "id": "Ksq6bfmtXkGv",
        "outputId": "0b22e528-f3c5-4d98-f044-8e4fdba7580a"
      },
      "execution_count": null,
      "outputs": [
        {
          "output_type": "stream",
          "name": "stdout",
          "text": [
            "Mean Absolute Error: 0.2823690054822086\n",
            "Mean Squared Error: 0.09467264118185406\n",
            "Root Mean Squared Error: 0.3076891957509299\n"
          ]
        }
      ]
    },
    {
      "cell_type": "code",
      "source": [
        "from sklearn.linear_model._logistic import LogisticRegression\n"
      ],
      "metadata": {
        "id": "YqHe4PDVXsQ4"
      },
      "execution_count": null,
      "outputs": []
    },
    {
      "cell_type": "code",
      "source": [
        "from sklearn.linear_model import LinearRegression\n",
        "lr = LinearRegression()"
      ],
      "metadata": {
        "id": "3EFR_4YSYIPi"
      },
      "execution_count": null,
      "outputs": []
    },
    {
      "cell_type": "code",
      "source": [
        "logi = LogisticRegression(random_state=0, max_iter=1000)"
      ],
      "metadata": {
        "id": "Dtf3z-DwX0p6"
      },
      "execution_count": null,
      "outputs": []
    },
    {
      "cell_type": "code",
      "source": [
        "val = logi.fit(X_train, y_train)"
      ],
      "metadata": {
        "id": "SjfV9UCUX5uW"
      },
      "execution_count": null,
      "outputs": []
    },
    {
      "cell_type": "code",
      "source": [
        "from sklearn.linear_model import LinearRegression\n",
        "regressor = LinearRegression()\n",
        "regressor = regressor.fit(X_train, y_train)\n",
        "\n",
        "# Predicting the Test set results\n",
        "Y_pred = regressor.predict(X_test)"
      ],
      "metadata": {
        "id": "jWzNeBV6YAwd"
      },
      "execution_count": null,
      "outputs": []
    },
    {
      "cell_type": "code",
      "source": [
        "x=data.iloc[:,0:7].values\n",
        "x"
      ],
      "metadata": {
        "colab": {
          "base_uri": "https://localhost:8080/"
        },
        "id": "ANlYukbuZ91B",
        "outputId": "7ef85a3d-8ee8-437d-9c75-f031c66f43d9"
      },
      "execution_count": null,
      "outputs": [
        {
          "output_type": "execute_result",
          "data": {
            "text/plain": [
              "array([[  1.  , 337.  , 118.  , ...,   4.5 ,   4.5 ,   9.65],\n",
              "       [  2.  , 324.  , 107.  , ...,   4.  ,   4.5 ,   8.87],\n",
              "       [  3.  , 316.  , 104.  , ...,   3.  ,   3.5 ,   8.  ],\n",
              "       ...,\n",
              "       [398.  , 330.  , 116.  , ...,   5.  ,   4.5 ,   9.45],\n",
              "       [399.  , 312.  , 103.  , ...,   3.5 ,   4.  ,   8.78],\n",
              "       [400.  , 333.  , 117.  , ...,   5.  ,   4.  ,   9.66]])"
            ]
          },
          "metadata": {},
          "execution_count": 33
        }
      ]
    },
    {
      "cell_type": "code",
      "source": [
        "y=data.iloc[:,7:].values\n",
        "y"
      ],
      "metadata": {
        "colab": {
          "base_uri": "https://localhost:8080/"
        },
        "id": "ClLUEmzPaKHx",
        "outputId": "49e5f23f-14b6-4ef4-caff-414f4677d196"
      },
      "execution_count": null,
      "outputs": [
        {
          "output_type": "execute_result",
          "data": {
            "text/plain": [
              "array([[1.  , 0.92],\n",
              "       [1.  , 0.76],\n",
              "       [1.  , 0.72],\n",
              "       [1.  , 0.8 ],\n",
              "       [0.  , 0.65],\n",
              "       [1.  , 0.9 ],\n",
              "       [1.  , 0.75],\n",
              "       [0.  , 0.68],\n",
              "       [0.  , 0.5 ],\n",
              "       [0.  , 0.45],\n",
              "       [1.  , 0.52],\n",
              "       [1.  , 0.84],\n",
              "       [1.  , 0.78],\n",
              "       [1.  , 0.62],\n",
              "       [1.  , 0.61],\n",
              "       [0.  , 0.54],\n",
              "       [0.  , 0.66],\n",
              "       [1.  , 0.65],\n",
              "       [0.  , 0.63],\n",
              "       [0.  , 0.62],\n",
              "       [1.  , 0.64],\n",
              "       [0.  , 0.7 ],\n",
              "       [1.  , 0.94],\n",
              "       [1.  , 0.95],\n",
              "       [1.  , 0.97],\n",
              "       [1.  , 0.94],\n",
              "       [0.  , 0.76],\n",
              "       [1.  , 0.44],\n",
              "       [0.  , 0.46],\n",
              "       [0.  , 0.54],\n",
              "       [1.  , 0.65],\n",
              "       [1.  , 0.74],\n",
              "       [1.  , 0.91],\n",
              "       [1.  , 0.9 ],\n",
              "       [1.  , 0.94],\n",
              "       [1.  , 0.88],\n",
              "       [0.  , 0.64],\n",
              "       [0.  , 0.58],\n",
              "       [0.  , 0.52],\n",
              "       [0.  , 0.48],\n",
              "       [1.  , 0.46],\n",
              "       [1.  , 0.49],\n",
              "       [1.  , 0.53],\n",
              "       [0.  , 0.87],\n",
              "       [1.  , 0.91],\n",
              "       [1.  , 0.88],\n",
              "       [1.  , 0.86],\n",
              "       [0.  , 0.89],\n",
              "       [1.  , 0.82],\n",
              "       [1.  , 0.78],\n",
              "       [1.  , 0.76],\n",
              "       [1.  , 0.56],\n",
              "       [1.  , 0.78],\n",
              "       [1.  , 0.72],\n",
              "       [0.  , 0.7 ],\n",
              "       [0.  , 0.64],\n",
              "       [0.  , 0.64],\n",
              "       [0.  , 0.46],\n",
              "       [1.  , 0.36],\n",
              "       [0.  , 0.42],\n",
              "       [0.  , 0.48],\n",
              "       [0.  , 0.47],\n",
              "       [1.  , 0.54],\n",
              "       [1.  , 0.56],\n",
              "       [0.  , 0.52],\n",
              "       [0.  , 0.55],\n",
              "       [0.  , 0.61],\n",
              "       [1.  , 0.57],\n",
              "       [1.  , 0.68],\n",
              "       [1.  , 0.78],\n",
              "       [1.  , 0.94],\n",
              "       [1.  , 0.96],\n",
              "       [1.  , 0.93],\n",
              "       [1.  , 0.84],\n",
              "       [0.  , 0.74],\n",
              "       [1.  , 0.72],\n",
              "       [1.  , 0.74],\n",
              "       [0.  , 0.64],\n",
              "       [1.  , 0.44],\n",
              "       [0.  , 0.46],\n",
              "       [1.  , 0.5 ],\n",
              "       [1.  , 0.96],\n",
              "       [1.  , 0.92],\n",
              "       [1.  , 0.92],\n",
              "       [1.  , 0.94],\n",
              "       [0.  , 0.76],\n",
              "       [0.  , 0.72],\n",
              "       [0.  , 0.66],\n",
              "       [0.  , 0.64],\n",
              "       [1.  , 0.74],\n",
              "       [1.  , 0.64],\n",
              "       [0.  , 0.38],\n",
              "       [0.  , 0.34],\n",
              "       [1.  , 0.44],\n",
              "       [0.  , 0.36],\n",
              "       [0.  , 0.42],\n",
              "       [0.  , 0.48],\n",
              "       [1.  , 0.86],\n",
              "       [1.  , 0.9 ],\n",
              "       [1.  , 0.79],\n",
              "       [1.  , 0.71],\n",
              "       [0.  , 0.64],\n",
              "       [0.  , 0.62],\n",
              "       [0.  , 0.57],\n",
              "       [1.  , 0.74],\n",
              "       [1.  , 0.69],\n",
              "       [1.  , 0.87],\n",
              "       [1.  , 0.91],\n",
              "       [1.  , 0.93],\n",
              "       [0.  , 0.68],\n",
              "       [0.  , 0.61],\n",
              "       [1.  , 0.69],\n",
              "       [1.  , 0.62],\n",
              "       [0.  , 0.72],\n",
              "       [1.  , 0.59],\n",
              "       [1.  , 0.66],\n",
              "       [0.  , 0.56],\n",
              "       [0.  , 0.45],\n",
              "       [0.  , 0.47],\n",
              "       [1.  , 0.71],\n",
              "       [1.  , 0.94],\n",
              "       [1.  , 0.94],\n",
              "       [0.  , 0.57],\n",
              "       [0.  , 0.61],\n",
              "       [0.  , 0.57],\n",
              "       [1.  , 0.64],\n",
              "       [1.  , 0.85],\n",
              "       [1.  , 0.78],\n",
              "       [1.  , 0.84],\n",
              "       [1.  , 0.92],\n",
              "       [1.  , 0.96],\n",
              "       [0.  , 0.77],\n",
              "       [0.  , 0.71],\n",
              "       [0.  , 0.79],\n",
              "       [1.  , 0.89],\n",
              "       [1.  , 0.82],\n",
              "       [0.  , 0.76],\n",
              "       [1.  , 0.71],\n",
              "       [1.  , 0.8 ],\n",
              "       [0.  , 0.78],\n",
              "       [1.  , 0.84],\n",
              "       [1.  , 0.9 ],\n",
              "       [1.  , 0.92],\n",
              "       [1.  , 0.97],\n",
              "       [1.  , 0.8 ],\n",
              "       [1.  , 0.81],\n",
              "       [0.  , 0.75],\n",
              "       [1.  , 0.83],\n",
              "       [1.  , 0.96],\n",
              "       [1.  , 0.79],\n",
              "       [1.  , 0.93],\n",
              "       [1.  , 0.94],\n",
              "       [1.  , 0.86],\n",
              "       [0.  , 0.79],\n",
              "       [0.  , 0.8 ],\n",
              "       [0.  , 0.77],\n",
              "       [0.  , 0.7 ],\n",
              "       [0.  , 0.65],\n",
              "       [0.  , 0.61],\n",
              "       [0.  , 0.52],\n",
              "       [0.  , 0.57],\n",
              "       [0.  , 0.53],\n",
              "       [0.  , 0.67],\n",
              "       [0.  , 0.68],\n",
              "       [1.  , 0.81],\n",
              "       [0.  , 0.78],\n",
              "       [0.  , 0.65],\n",
              "       [0.  , 0.64],\n",
              "       [1.  , 0.64],\n",
              "       [0.  , 0.65],\n",
              "       [1.  , 0.68],\n",
              "       [1.  , 0.89],\n",
              "       [1.  , 0.86],\n",
              "       [1.  , 0.89],\n",
              "       [1.  , 0.87],\n",
              "       [1.  , 0.85],\n",
              "       [1.  , 0.9 ],\n",
              "       [0.  , 0.82],\n",
              "       [0.  , 0.72],\n",
              "       [0.  , 0.73],\n",
              "       [0.  , 0.71],\n",
              "       [0.  , 0.71],\n",
              "       [0.  , 0.68],\n",
              "       [0.  , 0.75],\n",
              "       [0.  , 0.72],\n",
              "       [1.  , 0.89],\n",
              "       [1.  , 0.84],\n",
              "       [1.  , 0.93],\n",
              "       [1.  , 0.93],\n",
              "       [1.  , 0.88],\n",
              "       [1.  , 0.9 ],\n",
              "       [1.  , 0.87],\n",
              "       [1.  , 0.86],\n",
              "       [1.  , 0.94],\n",
              "       [0.  , 0.77],\n",
              "       [1.  , 0.78],\n",
              "       [0.  , 0.73],\n",
              "       [0.  , 0.73],\n",
              "       [0.  , 0.7 ],\n",
              "       [0.  , 0.72],\n",
              "       [1.  , 0.73],\n",
              "       [1.  , 0.72],\n",
              "       [1.  , 0.97],\n",
              "       [1.  , 0.97],\n",
              "       [0.  , 0.69],\n",
              "       [0.  , 0.57],\n",
              "       [0.  , 0.63],\n",
              "       [1.  , 0.66],\n",
              "       [0.  , 0.64],\n",
              "       [1.  , 0.68],\n",
              "       [1.  , 0.79],\n",
              "       [1.  , 0.82],\n",
              "       [1.  , 0.95],\n",
              "       [1.  , 0.96],\n",
              "       [1.  , 0.94],\n",
              "       [1.  , 0.93],\n",
              "       [1.  , 0.91],\n",
              "       [1.  , 0.85],\n",
              "       [1.  , 0.84],\n",
              "       [0.  , 0.74],\n",
              "       [0.  , 0.76],\n",
              "       [0.  , 0.75],\n",
              "       [0.  , 0.76],\n",
              "       [0.  , 0.71],\n",
              "       [0.  , 0.67],\n",
              "       [0.  , 0.61],\n",
              "       [0.  , 0.63],\n",
              "       [0.  , 0.64],\n",
              "       [0.  , 0.71],\n",
              "       [1.  , 0.82],\n",
              "       [0.  , 0.73],\n",
              "       [1.  , 0.74],\n",
              "       [0.  , 0.69],\n",
              "       [0.  , 0.64],\n",
              "       [1.  , 0.91],\n",
              "       [1.  , 0.88],\n",
              "       [1.  , 0.85],\n",
              "       [1.  , 0.86],\n",
              "       [0.  , 0.7 ],\n",
              "       [0.  , 0.59],\n",
              "       [0.  , 0.6 ],\n",
              "       [0.  , 0.65],\n",
              "       [1.  , 0.7 ],\n",
              "       [1.  , 0.76],\n",
              "       [0.  , 0.63],\n",
              "       [1.  , 0.81],\n",
              "       [0.  , 0.72],\n",
              "       [0.  , 0.71],\n",
              "       [1.  , 0.8 ],\n",
              "       [1.  , 0.77],\n",
              "       [1.  , 0.74],\n",
              "       [0.  , 0.7 ],\n",
              "       [1.  , 0.71],\n",
              "       [1.  , 0.93],\n",
              "       [0.  , 0.85],\n",
              "       [0.  , 0.79],\n",
              "       [0.  , 0.76],\n",
              "       [1.  , 0.78],\n",
              "       [1.  , 0.77],\n",
              "       [1.  , 0.9 ],\n",
              "       [1.  , 0.87],\n",
              "       [0.  , 0.71],\n",
              "       [1.  , 0.7 ],\n",
              "       [1.  , 0.7 ],\n",
              "       [1.  , 0.75],\n",
              "       [0.  , 0.71],\n",
              "       [0.  , 0.72],\n",
              "       [1.  , 0.73],\n",
              "       [0.  , 0.83],\n",
              "       [0.  , 0.77],\n",
              "       [1.  , 0.72],\n",
              "       [0.  , 0.54],\n",
              "       [0.  , 0.49],\n",
              "       [1.  , 0.52],\n",
              "       [0.  , 0.58],\n",
              "       [1.  , 0.78],\n",
              "       [1.  , 0.89],\n",
              "       [0.  , 0.7 ],\n",
              "       [0.  , 0.66],\n",
              "       [0.  , 0.67],\n",
              "       [1.  , 0.68],\n",
              "       [1.  , 0.8 ],\n",
              "       [1.  , 0.81],\n",
              "       [1.  , 0.8 ],\n",
              "       [1.  , 0.94],\n",
              "       [1.  , 0.93],\n",
              "       [1.  , 0.92],\n",
              "       [1.  , 0.89],\n",
              "       [0.  , 0.82],\n",
              "       [0.  , 0.79],\n",
              "       [0.  , 0.58],\n",
              "       [0.  , 0.56],\n",
              "       [0.  , 0.56],\n",
              "       [1.  , 0.64],\n",
              "       [1.  , 0.61],\n",
              "       [0.  , 0.68],\n",
              "       [0.  , 0.76],\n",
              "       [0.  , 0.86],\n",
              "       [1.  , 0.9 ],\n",
              "       [0.  , 0.71],\n",
              "       [0.  , 0.62],\n",
              "       [0.  , 0.66],\n",
              "       [1.  , 0.65],\n",
              "       [1.  , 0.73],\n",
              "       [0.  , 0.62],\n",
              "       [1.  , 0.74],\n",
              "       [1.  , 0.79],\n",
              "       [1.  , 0.8 ],\n",
              "       [0.  , 0.69],\n",
              "       [0.  , 0.7 ],\n",
              "       [1.  , 0.76],\n",
              "       [1.  , 0.84],\n",
              "       [1.  , 0.78],\n",
              "       [0.  , 0.67],\n",
              "       [0.  , 0.66],\n",
              "       [0.  , 0.65],\n",
              "       [0.  , 0.54],\n",
              "       [0.  , 0.58],\n",
              "       [1.  , 0.79],\n",
              "       [1.  , 0.8 ],\n",
              "       [1.  , 0.75],\n",
              "       [1.  , 0.73],\n",
              "       [0.  , 0.72],\n",
              "       [0.  , 0.62],\n",
              "       [0.  , 0.67],\n",
              "       [1.  , 0.81],\n",
              "       [0.  , 0.63],\n",
              "       [0.  , 0.69],\n",
              "       [1.  , 0.8 ],\n",
              "       [0.  , 0.43],\n",
              "       [1.  , 0.8 ],\n",
              "       [1.  , 0.73],\n",
              "       [1.  , 0.75],\n",
              "       [1.  , 0.71],\n",
              "       [1.  , 0.73],\n",
              "       [1.  , 0.83],\n",
              "       [0.  , 0.72],\n",
              "       [1.  , 0.94],\n",
              "       [1.  , 0.81],\n",
              "       [1.  , 0.81],\n",
              "       [1.  , 0.75],\n",
              "       [1.  , 0.79],\n",
              "       [0.  , 0.58],\n",
              "       [0.  , 0.59],\n",
              "       [0.  , 0.47],\n",
              "       [0.  , 0.49],\n",
              "       [0.  , 0.47],\n",
              "       [0.  , 0.42],\n",
              "       [0.  , 0.57],\n",
              "       [0.  , 0.62],\n",
              "       [1.  , 0.74],\n",
              "       [1.  , 0.73],\n",
              "       [1.  , 0.64],\n",
              "       [0.  , 0.63],\n",
              "       [0.  , 0.59],\n",
              "       [0.  , 0.73],\n",
              "       [1.  , 0.79],\n",
              "       [1.  , 0.68],\n",
              "       [0.  , 0.7 ],\n",
              "       [0.  , 0.81],\n",
              "       [1.  , 0.85],\n",
              "       [1.  , 0.93],\n",
              "       [1.  , 0.91],\n",
              "       [0.  , 0.69],\n",
              "       [1.  , 0.77],\n",
              "       [1.  , 0.86],\n",
              "       [1.  , 0.74],\n",
              "       [0.  , 0.57],\n",
              "       [0.  , 0.51],\n",
              "       [1.  , 0.67],\n",
              "       [0.  , 0.72],\n",
              "       [1.  , 0.89],\n",
              "       [1.  , 0.95],\n",
              "       [1.  , 0.79],\n",
              "       [0.  , 0.39],\n",
              "       [0.  , 0.38],\n",
              "       [0.  , 0.34],\n",
              "       [0.  , 0.47],\n",
              "       [0.  , 0.56],\n",
              "       [1.  , 0.71],\n",
              "       [1.  , 0.78],\n",
              "       [1.  , 0.73],\n",
              "       [1.  , 0.82],\n",
              "       [0.  , 0.62],\n",
              "       [1.  , 0.96],\n",
              "       [1.  , 0.96],\n",
              "       [0.  , 0.46],\n",
              "       [0.  , 0.53],\n",
              "       [0.  , 0.49],\n",
              "       [1.  , 0.76],\n",
              "       [0.  , 0.64],\n",
              "       [0.  , 0.71],\n",
              "       [1.  , 0.84],\n",
              "       [0.  , 0.77],\n",
              "       [1.  , 0.89],\n",
              "       [1.  , 0.82],\n",
              "       [1.  , 0.84],\n",
              "       [1.  , 0.91],\n",
              "       [0.  , 0.67],\n",
              "       [1.  , 0.95]])"
            ]
          },
          "metadata": {},
          "execution_count": 34
        }
      ]
    },
    {
      "cell_type": "code",
      "source": [
        "from sklearn.model_selection import train_test_split\n",
        "x_train,x_test,y_train,y_test=train_test_split(x,y,test_size=0.2,random_state=0)\n",
        "y_train=(y_train>0.5)\n",
        "y_train"
      ],
      "metadata": {
        "colab": {
          "base_uri": "https://localhost:8080/"
        },
        "id": "6y0lSJ5yaYzq",
        "outputId": "bfa5a9de-8f17-4f94-8366-bc2c095d5830"
      },
      "execution_count": null,
      "outputs": [
        {
          "output_type": "execute_result",
          "data": {
            "text/plain": [
              "array([[False,  True],\n",
              "       [False,  True],\n",
              "       [False,  True],\n",
              "       [ True,  True],\n",
              "       [False,  True],\n",
              "       [ True,  True],\n",
              "       [False,  True],\n",
              "       [ True,  True],\n",
              "       [ True,  True],\n",
              "       [ True,  True],\n",
              "       [ True,  True],\n",
              "       [ True,  True],\n",
              "       [False,  True],\n",
              "       [False, False],\n",
              "       [ True,  True],\n",
              "       [False,  True],\n",
              "       [ True,  True],\n",
              "       [False,  True],\n",
              "       [ True,  True],\n",
              "       [ True,  True],\n",
              "       [ True,  True],\n",
              "       [ True,  True],\n",
              "       [ True,  True],\n",
              "       [False,  True],\n",
              "       [ True,  True],\n",
              "       [ True,  True],\n",
              "       [ True,  True],\n",
              "       [False,  True],\n",
              "       [False,  True],\n",
              "       [False,  True],\n",
              "       [False, False],\n",
              "       [ True,  True],\n",
              "       [False,  True],\n",
              "       [False,  True],\n",
              "       [ True,  True],\n",
              "       [ True,  True],\n",
              "       [ True,  True],\n",
              "       [ True,  True],\n",
              "       [False,  True],\n",
              "       [False,  True],\n",
              "       [False, False],\n",
              "       [False,  True],\n",
              "       [ True,  True],\n",
              "       [False,  True],\n",
              "       [False, False],\n",
              "       [ True,  True],\n",
              "       [ True,  True],\n",
              "       [ True,  True],\n",
              "       [ True,  True],\n",
              "       [ True,  True],\n",
              "       [ True,  True],\n",
              "       [False,  True],\n",
              "       [False,  True],\n",
              "       [False,  True],\n",
              "       [ True,  True],\n",
              "       [False,  True],\n",
              "       [ True,  True],\n",
              "       [False,  True],\n",
              "       [False,  True],\n",
              "       [ True,  True],\n",
              "       [ True,  True],\n",
              "       [ True,  True],\n",
              "       [ True,  True],\n",
              "       [ True,  True],\n",
              "       [ True,  True],\n",
              "       [False,  True],\n",
              "       [False,  True],\n",
              "       [ True,  True],\n",
              "       [ True,  True],\n",
              "       [False,  True],\n",
              "       [ True,  True],\n",
              "       [ True,  True],\n",
              "       [False,  True],\n",
              "       [ True,  True],\n",
              "       [ True,  True],\n",
              "       [False,  True],\n",
              "       [ True,  True],\n",
              "       [ True,  True],\n",
              "       [False,  True],\n",
              "       [False,  True],\n",
              "       [ True,  True],\n",
              "       [False,  True],\n",
              "       [ True,  True],\n",
              "       [False,  True],\n",
              "       [False,  True],\n",
              "       [ True,  True],\n",
              "       [ True,  True],\n",
              "       [ True,  True],\n",
              "       [False,  True],\n",
              "       [False, False],\n",
              "       [False,  True],\n",
              "       [ True,  True],\n",
              "       [ True,  True],\n",
              "       [False,  True],\n",
              "       [False,  True],\n",
              "       [ True,  True],\n",
              "       [ True,  True],\n",
              "       [ True,  True],\n",
              "       [ True,  True],\n",
              "       [ True,  True],\n",
              "       [False,  True],\n",
              "       [ True,  True],\n",
              "       [ True,  True],\n",
              "       [ True,  True],\n",
              "       [False,  True],\n",
              "       [ True,  True],\n",
              "       [False,  True],\n",
              "       [False,  True],\n",
              "       [ True,  True],\n",
              "       [False,  True],\n",
              "       [ True,  True],\n",
              "       [ True,  True],\n",
              "       [ True,  True],\n",
              "       [ True, False],\n",
              "       [ True,  True],\n",
              "       [ True,  True],\n",
              "       [False,  True],\n",
              "       [ True,  True],\n",
              "       [False, False],\n",
              "       [False,  True],\n",
              "       [ True,  True],\n",
              "       [ True,  True],\n",
              "       [False,  True],\n",
              "       [False,  True],\n",
              "       [False,  True],\n",
              "       [ True,  True],\n",
              "       [False,  True],\n",
              "       [ True,  True],\n",
              "       [False,  True],\n",
              "       [ True,  True],\n",
              "       [ True,  True],\n",
              "       [ True,  True],\n",
              "       [ True,  True],\n",
              "       [ True,  True],\n",
              "       [False,  True],\n",
              "       [ True,  True],\n",
              "       [ True, False],\n",
              "       [ True,  True],\n",
              "       [False,  True],\n",
              "       [ True,  True],\n",
              "       [False,  True],\n",
              "       [False,  True],\n",
              "       [ True, False],\n",
              "       [False,  True],\n",
              "       [ True,  True],\n",
              "       [False, False],\n",
              "       [ True,  True],\n",
              "       [ True,  True],\n",
              "       [ True,  True],\n",
              "       [ True,  True],\n",
              "       [False,  True],\n",
              "       [ True,  True],\n",
              "       [ True,  True],\n",
              "       [False, False],\n",
              "       [False,  True],\n",
              "       [False,  True],\n",
              "       [ True,  True],\n",
              "       [False,  True],\n",
              "       [ True,  True],\n",
              "       [ True,  True],\n",
              "       [ True,  True],\n",
              "       [False, False],\n",
              "       [False,  True],\n",
              "       [ True,  True],\n",
              "       [False,  True],\n",
              "       [False, False],\n",
              "       [False,  True],\n",
              "       [ True,  True],\n",
              "       [False,  True],\n",
              "       [ True,  True],\n",
              "       [False,  True],\n",
              "       [False,  True],\n",
              "       [ True,  True],\n",
              "       [False,  True],\n",
              "       [False,  True],\n",
              "       [False,  True],\n",
              "       [False,  True],\n",
              "       [False,  True],\n",
              "       [ True,  True],\n",
              "       [ True,  True],\n",
              "       [ True,  True],\n",
              "       [False,  True],\n",
              "       [False,  True],\n",
              "       [False,  True],\n",
              "       [ True,  True],\n",
              "       [ True,  True],\n",
              "       [ True,  True],\n",
              "       [ True,  True],\n",
              "       [False,  True],\n",
              "       [False,  True],\n",
              "       [False,  True],\n",
              "       [ True,  True],\n",
              "       [False, False],\n",
              "       [False,  True],\n",
              "       [ True,  True],\n",
              "       [ True, False],\n",
              "       [ True,  True],\n",
              "       [ True,  True],\n",
              "       [ True,  True],\n",
              "       [False,  True],\n",
              "       [False,  True],\n",
              "       [False,  True],\n",
              "       [ True,  True],\n",
              "       [ True, False],\n",
              "       [ True, False],\n",
              "       [ True,  True],\n",
              "       [ True,  True],\n",
              "       [ True,  True],\n",
              "       [False,  True],\n",
              "       [False,  True],\n",
              "       [ True,  True],\n",
              "       [False,  True],\n",
              "       [False,  True],\n",
              "       [ True,  True],\n",
              "       [ True,  True],\n",
              "       [ True,  True],\n",
              "       [ True,  True],\n",
              "       [ True,  True],\n",
              "       [False,  True],\n",
              "       [ True,  True],\n",
              "       [ True,  True],\n",
              "       [ True,  True],\n",
              "       [ True,  True],\n",
              "       [False,  True],\n",
              "       [False,  True],\n",
              "       [False,  True],\n",
              "       [False, False],\n",
              "       [ True,  True],\n",
              "       [False, False],\n",
              "       [ True,  True],\n",
              "       [False,  True],\n",
              "       [ True,  True],\n",
              "       [ True,  True],\n",
              "       [ True,  True],\n",
              "       [ True,  True],\n",
              "       [False,  True],\n",
              "       [False,  True],\n",
              "       [ True,  True],\n",
              "       [ True,  True],\n",
              "       [False,  True],\n",
              "       [False,  True],\n",
              "       [ True,  True],\n",
              "       [False,  True],\n",
              "       [ True,  True],\n",
              "       [False,  True],\n",
              "       [ True,  True],\n",
              "       [ True,  True],\n",
              "       [ True,  True],\n",
              "       [False, False],\n",
              "       [ True,  True],\n",
              "       [False, False],\n",
              "       [ True,  True],\n",
              "       [ True,  True],\n",
              "       [ True,  True],\n",
              "       [False,  True],\n",
              "       [False, False],\n",
              "       [ True,  True],\n",
              "       [ True,  True],\n",
              "       [False,  True],\n",
              "       [ True,  True],\n",
              "       [ True,  True],\n",
              "       [False,  True],\n",
              "       [ True,  True],\n",
              "       [False,  True],\n",
              "       [False,  True],\n",
              "       [ True,  True],\n",
              "       [False, False],\n",
              "       [ True,  True],\n",
              "       [False,  True],\n",
              "       [False, False],\n",
              "       [False,  True],\n",
              "       [False,  True],\n",
              "       [ True,  True],\n",
              "       [False,  True],\n",
              "       [ True,  True],\n",
              "       [ True,  True],\n",
              "       [ True,  True],\n",
              "       [ True,  True],\n",
              "       [ True,  True],\n",
              "       [ True,  True],\n",
              "       [False,  True],\n",
              "       [ True,  True],\n",
              "       [ True,  True],\n",
              "       [ True,  True],\n",
              "       [False,  True],\n",
              "       [False,  True],\n",
              "       [ True,  True],\n",
              "       [ True,  True],\n",
              "       [ True,  True],\n",
              "       [False,  True],\n",
              "       [ True,  True],\n",
              "       [ True,  True],\n",
              "       [False,  True],\n",
              "       [ True,  True],\n",
              "       [ True,  True],\n",
              "       [ True,  True],\n",
              "       [False,  True],\n",
              "       [ True,  True],\n",
              "       [ True,  True],\n",
              "       [ True,  True],\n",
              "       [False, False],\n",
              "       [False, False],\n",
              "       [ True,  True],\n",
              "       [False,  True],\n",
              "       [False,  True],\n",
              "       [ True,  True],\n",
              "       [False,  True],\n",
              "       [False,  True],\n",
              "       [ True,  True],\n",
              "       [False,  True],\n",
              "       [ True,  True],\n",
              "       [False, False],\n",
              "       [False,  True],\n",
              "       [ True,  True],\n",
              "       [False,  True],\n",
              "       [False,  True],\n",
              "       [ True,  True],\n",
              "       [False, False],\n",
              "       [False,  True],\n",
              "       [ True,  True]])"
            ]
          },
          "metadata": {},
          "execution_count": 36
        }
      ]
    },
    {
      "cell_type": "code",
      "source": [
        "y_test=(y_test>0.5)\n",
        "y_test"
      ],
      "metadata": {
        "colab": {
          "base_uri": "https://localhost:8080/"
        },
        "id": "iS6OYqJiaZdC",
        "outputId": "f5115a14-64c3-49f7-fc5b-c873556bc37c"
      },
      "execution_count": null,
      "outputs": [
        {
          "output_type": "execute_result",
          "data": {
            "text/plain": [
              "array([[False,  True],\n",
              "       [False,  True],\n",
              "       [ True,  True],\n",
              "       [False,  True],\n",
              "       [False,  True],\n",
              "       [False, False],\n",
              "       [False,  True],\n",
              "       [False,  True],\n",
              "       [ True,  True],\n",
              "       [ True,  True],\n",
              "       [False,  True],\n",
              "       [ True,  True],\n",
              "       [False,  True],\n",
              "       [False,  True],\n",
              "       [ True,  True],\n",
              "       [False, False],\n",
              "       [ True,  True],\n",
              "       [ True,  True],\n",
              "       [False,  True],\n",
              "       [False,  True],\n",
              "       [ True,  True],\n",
              "       [False,  True],\n",
              "       [False,  True],\n",
              "       [False, False],\n",
              "       [ True,  True],\n",
              "       [False,  True],\n",
              "       [ True, False],\n",
              "       [False,  True],\n",
              "       [ True,  True],\n",
              "       [False,  True],\n",
              "       [ True,  True],\n",
              "       [ True,  True],\n",
              "       [ True,  True],\n",
              "       [False,  True],\n",
              "       [False,  True],\n",
              "       [ True,  True],\n",
              "       [ True,  True],\n",
              "       [ True,  True],\n",
              "       [False,  True],\n",
              "       [ True,  True],\n",
              "       [ True,  True],\n",
              "       [False,  True],\n",
              "       [ True,  True],\n",
              "       [ True,  True],\n",
              "       [False,  True],\n",
              "       [False,  True],\n",
              "       [False, False],\n",
              "       [False,  True],\n",
              "       [False,  True],\n",
              "       [False,  True],\n",
              "       [False,  True],\n",
              "       [ True,  True],\n",
              "       [ True,  True],\n",
              "       [ True,  True],\n",
              "       [ True,  True],\n",
              "       [ True,  True],\n",
              "       [ True,  True],\n",
              "       [ True,  True],\n",
              "       [False,  True],\n",
              "       [ True,  True],\n",
              "       [False,  True],\n",
              "       [False, False],\n",
              "       [False,  True],\n",
              "       [False,  True],\n",
              "       [ True,  True],\n",
              "       [ True,  True],\n",
              "       [ True,  True],\n",
              "       [ True,  True],\n",
              "       [False,  True],\n",
              "       [ True,  True],\n",
              "       [False,  True],\n",
              "       [ True,  True],\n",
              "       [ True,  True],\n",
              "       [ True,  True],\n",
              "       [ True,  True],\n",
              "       [ True,  True],\n",
              "       [False,  True],\n",
              "       [False,  True],\n",
              "       [ True,  True],\n",
              "       [False, False]])"
            ]
          },
          "metadata": {},
          "execution_count": 37
        }
      ]
    },
    {
      "cell_type": "code",
      "source": [
        "%matplotlib inline\n",
        "import io\n",
        "import matplotlib.pyplot as plt\n",
        "import pandas as pd\n",
        "import numpy as np\n",
        "import scipy.stats\n",
        "import scipy.special\n",
        "import seaborn as sns\n",
        "import sklearn.linear_model\n",
        "from sklearn.linear_model import LogisticRegression\n",
        "cls = LogisticRegression(random_state=0)"
      ],
      "metadata": {
        "id": "axrx7VdgagLm"
      },
      "execution_count": null,
      "outputs": []
    },
    {
      "cell_type": "code",
      "source": [
        "X=data.drop(['Chance of Admit '],axis=1) \n",
        "y=data['Chance of Admit ']"
      ],
      "metadata": {
        "id": "LnQ__81OalNe"
      },
      "execution_count": null,
      "outputs": []
    },
    {
      "cell_type": "code",
      "source": [
        "from sklearn.model_selection import train_test_split \n",
        "X_train, X_test, y_train, y_test = train_test_split(X, y, test_size=0.15)\n",
        "from sklearn.ensemble import GradientBoostingRegressor\n",
        "rgr = GradientBoostingRegressor()\n",
        "rgr.fit(X_train,y_train)"
      ],
      "metadata": {
        "colab": {
          "base_uri": "https://localhost:8080/"
        },
        "id": "qZj0w-83ax42",
        "outputId": "17a225c3-28ae-4560-e9fd-bd28ccfbc252"
      },
      "execution_count": null,
      "outputs": [
        {
          "output_type": "execute_result",
          "data": {
            "text/plain": [
              "GradientBoostingRegressor()"
            ]
          },
          "metadata": {},
          "execution_count": 40
        }
      ]
    },
    {
      "cell_type": "code",
      "source": [
        "rgr.score(X_test,y_test)"
      ],
      "metadata": {
        "colab": {
          "base_uri": "https://localhost:8080/"
        },
        "id": "sSJK-EIZa0DU",
        "outputId": "6ffcb70a-b2cc-4581-cb99-3b37140cc16b"
      },
      "execution_count": null,
      "outputs": [
        {
          "output_type": "execute_result",
          "data": {
            "text/plain": [
              "0.8291258376729286"
            ]
          },
          "metadata": {},
          "execution_count": 41
        }
      ]
    },
    {
      "cell_type": "code",
      "source": [
        "y_predict=rgr.predict(X_test)"
      ],
      "metadata": {
        "id": "mWf8JUFha2Tt"
      },
      "execution_count": null,
      "outputs": []
    },
    {
      "cell_type": "code",
      "source": [
        "y_train = (y_train>0.5)\n",
        "y_test = (y_test>0.5)"
      ],
      "metadata": {
        "id": "jWSrfgUea9Gp"
      },
      "execution_count": null,
      "outputs": []
    },
    {
      "cell_type": "code",
      "source": [
        "from sklearn.metrics import mean_squared_error, r2_score,mean_absolute_error\n",
        "import numpy as np\n",
        "print('Mean Absolute Error:', mean_absolute_error(y_test, y_predict))  \n",
        "print('Mean Squared Error:', mean_squared_error(y_test, y_predict))  \n",
        "print('Root Mean Squared Error:', np.sqrt(mean_squared_error(y_test, y_predict)))"
      ],
      "metadata": {
        "colab": {
          "base_uri": "https://localhost:8080/"
        },
        "id": "-K1W4ywBa_9h",
        "outputId": "3e9609b3-ccff-4eb3-bdaf-034050ac0a67"
      },
      "execution_count": null,
      "outputs": [
        {
          "output_type": "stream",
          "name": "stdout",
          "text": [
            "Mean Absolute Error: 0.28295440415119566\n",
            "Mean Squared Error: 0.09449608683165525\n",
            "Root Mean Squared Error: 0.3074021581441081\n"
          ]
        }
      ]
    },
    {
      "cell_type": "code",
      "source": [
        "from sklearn.linear_model._logistic import LogisticRegression\n",
        "logi = LogisticRegression(random_state=0, max_iter=1000)"
      ],
      "metadata": {
        "id": "QXdsskJzbGIC"
      },
      "execution_count": null,
      "outputs": []
    },
    {
      "cell_type": "code",
      "source": [
        "val = logi.fit(X_train, y_train)"
      ],
      "metadata": {
        "id": "OpiNyQfWbC25"
      },
      "execution_count": null,
      "outputs": []
    },
    {
      "cell_type": "code",
      "source": [
        "import pickle\n",
        "pickle.dump(regressor, open(\"university.pkl\", \"wb\"))"
      ],
      "metadata": {
        "id": "vTodCOdjbOoV"
      },
      "execution_count": null,
      "outputs": []
    }
  ]
}