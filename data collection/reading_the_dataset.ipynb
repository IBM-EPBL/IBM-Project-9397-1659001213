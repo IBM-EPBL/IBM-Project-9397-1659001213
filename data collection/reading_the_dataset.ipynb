{
  "nbformat": 4,
  "nbformat_minor": 0,
  "metadata": {
    "colab": {
      "provenance": []
    },
    "kernelspec": {
      "name": "python3",
      "display_name": "Python 3"
    },
    "language_info": {
      "name": "python"
    }
  },
  "cells": [
    {
      "cell_type": "markdown",
      "source": [
        "Importing The Libraries"
      ],
      "metadata": {
        "id": "1Ml9aGpaOjKU"
      }
    },
    {
      "cell_type": "code",
      "source": [
        "import numpy as np\n",
        "import pandas as pd\n",
        "import seaborn as sns\n",
        "import matplotlib.pyplot as plt\n",
        "%matplotlib inline"
      ],
      "metadata": {
        "id": "6PdUNGIOOrlY"
      },
      "execution_count": 1,
      "outputs": []
    },
    {
      "cell_type": "markdown",
      "source": [
        "Reading the dataset"
      ],
      "metadata": {
        "id": "7NWIcLvNVmZN"
      }
    },
    {
      "cell_type": "code",
      "source": [
        "df=pd.read_csv(\"/archive (5).zip\")"
      ],
      "metadata": {
        "id": "XXte5NTHVno-"
      },
      "execution_count": 11,
      "outputs": []
    }
  ]
}